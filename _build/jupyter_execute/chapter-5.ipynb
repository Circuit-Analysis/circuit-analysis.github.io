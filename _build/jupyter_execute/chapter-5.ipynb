{
 "cells": [
  {
   "cell_type": "markdown",
   "id": "bba93f1e",
   "metadata": {},
   "source": [
    "# A Sloppy Approach to Circuit Analysis\n",
    "\n",
    "\\label{sec_MacGyver}\n",
    "\\begin{center}\n",
    "\\textit{``Sometimes a desperate man does dumb things.''} -Angus MacGyver\n",
    "\\end{center}\n",
    "\n",
    "\\begin{example}\n",
    "Find $V_S$ if $P_{R_2}=20$~W.\n",
    "\\begin{center}\\begin{circuitikz}\\draw\n",
    "(0,3) to[battery,l_={$V_S$}] (0,0)\n",
    "(0,3) to[R,lx={\\raisebox{1ex}{$R_1$} and \\raisebox{2ex}{2~\\Om}}] (3,3)\n",
    "(3,3) to[R,lx={$R_2$ and 5~\\Om}] (3,0)\n",
    "(6,3) to[R,lx={$R_3$ and 4~\\Om}] (6,0)\n",
    "(0,0) -- (6,0)\n",
    "(3,3) -- (6,3)\n",
    ";\n",
    "\\end{circuitikz}\\end{center}\n",
    "\\end{example}\n",
    "\n",
    "\\begin{example}\n",
    "Find $V_\\text{6k}$ and $V_\\text{3k}$.\n",
    "\\begin{center}\\begin{circuitikz}\\draw\n",
    "(0,0) to[R,l=6~k\\Om,v<= $V_\\text{6k}$] (0,3)\n",
    "(3,0) to[current source,l=1~mA] (3,3)\n",
    "(6,3) to[R,l=4~k\\Om] (6,0)\n",
    "(9,3) to[R,l=8~k\\Om] (9,0)\n",
    "(3,3) to[R,l=3~k\\Om,v= $V_\\text{3k}$] (6,3)\n",
    "(6,3) to[R,l=4~k\\Om] (9,3)\n",
    "(0,0) -- (9,0)\n",
    "(0,3) -- (3,3)\n",
    ";\n",
    "\\end{circuitikz}\\end{center}\n",
    "\\end{example}\n",
    "\n",
    "%%%%%%\n",
    "\\pagebreak\n",
    "%%%%%%\n",
    "\n",
    "\\begin{example}\n",
    "Find $I_x$.\n",
    "\\begin{center}\\begin{circuitikz}\\draw\n",
    "(0,0) to[current source,l=4~mA] (0,3)\n",
    "(3,3) to[R,i=$I_x$] (3,0)\n",
    "(6,3) to[controlled current source,l=3$I_x$] (6,0)\n",
    "(0,0) -- (6,0)\n",
    "(0,3) -- (6,3)\n",
    ";\n",
    "\\end{circuitikz}\\end{center}\n",
    "\\end{example}\n",
    "\n",
    "\\begin{example}\n",
    "Find V\\tss{AB}.\n",
    "\\begin{center}\\begin{circuitikz}\\draw\n",
    "(0,3) to[battery,l_=5~V] (0,0)\n",
    "(0,3) to[R,v=4~V] (3,3)\n",
    "(6,3) to[battery,l_=3~V] (3,3)\n",
    "(6,3) to[R,v<=6~V] (9,3)\n",
    "(9,3) to[R,v=10~V] (9,0)\n",
    "(9,0) -- (0,0)\n",
    "(0,3) node[above]{A}\n",
    "(9,3) node [above]{B}\n",
    "(0,0) node[sground,scale=0.5]{}\n",
    ";\n",
    "\\end{circuitikz}\\end{center}\n",
    "\\end{example}"
   ]
  }
 ],
 "metadata": {
  "jupytext": {
   "formats": "ipynb,md:myst",
   "text_representation": {
    "extension": ".md",
    "format_name": "myst",
    "format_version": 0.13,
    "jupytext_version": "1.14.1"
   }
  },
  "kernelspec": {
   "display_name": "Python 3 (ipykernel)",
   "language": "python",
   "name": "python3"
  },
  "language_info": {
   "codemirror_mode": {
    "name": "ipython",
    "version": 3
   },
   "file_extension": ".py",
   "mimetype": "text/x-python",
   "name": "python",
   "nbconvert_exporter": "python",
   "pygments_lexer": "ipython3",
   "version": "3.10.10"
  },
  "source_map": [
   13
  ]
 },
 "nbformat": 4,
 "nbformat_minor": 5
}