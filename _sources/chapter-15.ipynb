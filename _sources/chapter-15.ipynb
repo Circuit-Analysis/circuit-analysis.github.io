{
 "cells": [
  {
   "cell_type": "markdown",
   "id": "150acee3",
   "metadata": {},
   "source": [
    "(content:chapter:complexpower)=\n",
    "\n",
    "# A Simpler Approach: Complex Power\n",
    "\n",
    "\\section{Apparent Power}\n",
    "Apparent power is a combination of the power being dissipated by a load (average power) and the power being stored by the load (reactive power)\n",
    "\n",
    "\\section{Power Factor}\n",
    "\\section{Complex Power}\n",
    "\\section{Average Power Example}\n",
    "\\section{Power Factor Example}\n",
    "\\section{Complex Power Example}\n",
    "\\section{Maximum Power Transfer}"
   ]
  }
 ],
 "metadata": {
  "jupytext": {
   "formats": "ipynb,md:myst",
   "text_representation": {
    "extension": ".md",
    "format_name": "myst",
    "format_version": 0.13,
    "jupytext_version": "1.14.1"
   }
  },
  "kernelspec": {
   "display_name": "Python 3 (ipykernel)",
   "language": "python",
   "name": "python3"
  },
  "language_info": {
   "codemirror_mode": {
    "name": "ipython",
    "version": 3
   },
   "file_extension": ".py",
   "mimetype": "text/x-python",
   "name": "python",
   "nbconvert_exporter": "python",
   "pygments_lexer": "ipython3",
   "version": "3.9.13"
  },
  "source_map": [
   13
  ]
 },
 "nbformat": 4,
 "nbformat_minor": 5
}