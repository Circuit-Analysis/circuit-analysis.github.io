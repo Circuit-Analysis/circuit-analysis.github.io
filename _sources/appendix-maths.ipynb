{
 "cells": [
  {
   "cell_type": "markdown",
   "id": "3a27cb6f",
   "metadata": {},
   "source": [
    "(content:appendix:mathematics)=\n",
    "\n",
    "# Mathematical Identities\n",
    "\n",
    "## Trigonometric identities\n",
    "\n",
    "### $\\cos(\\cdot)$ to $\\sin(\\cdot)$\n",
    "\n",
    "\\begin{align*}\n",
    "A \\cos(\\omega t + B) &= A \\sin(\\frac{\\pi}{2} - (\\omega t + B))\\\\\n",
    "&= -A \\sin(\\omega t + B -\\frac{\\pi}{2})\n",
    "\\end{align*}\n",
    "\n",
    "### $\\sin(\\cdot)$ to $\\cos(\\cdot)$\n",
    "\n",
    "\\begin{align*}\n",
    "A \\sin(\\omega t + B) &= -A \\cos(\\omega t + B +\\frac{\\pi}{2})\n",
    "\\end{align*}\n",
    "\n",
    "## Trigonometric Derivatives\n",
    "\n",
    "### Derivative of $\\cos(\\omega t + \\theta)$\n",
    "\n",
    "\\begin{align*}\n",
    "\\frac{d}{dt} \\left ( \\cos(\\omega t + \\theta) \\right ) = - \\omega \\sin(\\omega t + \\theta)\n",
    "\\end{align*}\n",
    "\n",
    "### Derivative of $\\sin(\\omega t + \\theta)$\n",
    "\n",
    "\\begin{align*}\n",
    "\\frac{d}{dt} \\left ( \\sin(\\omega t + \\theta) \\right ) = \\omega \\cos(\\omega t + \\theta)\n",
    "\\end{align*}\n",
    "\n",
    "## Trigonometric Integrals\n",
    "\n",
    "### Integral of $\\cos(\\omega t + \\theta)$\n",
    "\n",
    "\\begin{align*}\n",
    "\\int \\cos(\\omega t + \\theta) dt &= \\frac{1}{\\omega} \\sin(\\omega t + \\theta) + c\n",
    "\\end{align*}\n",
    "\n",
    "### Integral of $\\sin(\\omega t + \\theta)$\n",
    "\n",
    "\\begin{align*}\n",
    "\\int \\sin(\\omega t + \\theta) dt &= - \\frac{1}{\\omega} \\cos(\\omega t + \\theta) + c\n",
    "\\end{align*}\n",
    "\n",
    "### Adding two cosine waves of the same frequency\n",
    "\n",
    "\\begin{align*}\n",
    "A \\cos(\\omega t + B) + C \\cos(\\omega t + D) &= \\Re\\{A e^{j (\\omega t + B)} + C e^{j(\\omega t + D)}\\}\\\\\n",
    "&= \\Re\\{e^{j\\omega t}(A e^{j B} + C e^{jD})\\}\\\\\n",
    "&= \\Re\\{e^{j\\omega t} ( A \\cos(B) + C \\cos(D) \\\\\n",
    "&+ j (A \\sin(B) + C \\sin(D))) \\}\\\\\n",
    "&= \\Re\\{e^{j\\omega t} \\\\\n",
    "& \\small \\sqrt{(A \\cos(B) + C \\cos(D))^2 + (A \\sin(B) + C \\sin(D))^2} \\\\\n",
    "& e^{j \\arctan(A \\sin(B) + C \\sin(D), A \\cos(B) + C \\cos(D))}\\}\n",
    "\\end{align*}\n",
    "\n",
    "which yields\n",
    "\n",
    "$$\n",
    "\\sqrt{(A \\cos(B) + C \\cos(D))^2 + (A \\sin(B) + C \\sin(D))^2} \\\\ \\cos(\\omega t +  \\arctan(A \\sin(B) + C \\sin(D), A \\cos(B) + C \\cos(D)))\n",
    "$$"
   ]
  }
 ],
 "metadata": {
  "jupytext": {
   "formats": "ipynb,md:myst",
   "text_representation": {
    "extension": ".md",
    "format_name": "myst",
    "format_version": 0.13,
    "jupytext_version": "1.14.1"
   }
  },
  "kernelspec": {
   "display_name": "Python 3 (ipykernel)",
   "language": "python",
   "name": "python3"
  },
  "language_info": {
   "codemirror_mode": {
    "name": "ipython",
    "version": 3
   },
   "file_extension": ".py",
   "mimetype": "text/x-python",
   "name": "python",
   "nbconvert_exporter": "python",
   "pygments_lexer": "ipython3",
   "version": "3.9.13"
  },
  "source_map": [
   13
  ]
 },
 "nbformat": 4,
 "nbformat_minor": 5
}