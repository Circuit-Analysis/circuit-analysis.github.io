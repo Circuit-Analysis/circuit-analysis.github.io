{
 "cells": [
  {
   "cell_type": "markdown",
   "id": "1ceeea1d",
   "metadata": {},
   "source": [
    "(content:chapter:bibliography)=\n",
    "\n",
    "# Bibliography\n",
    "\n",
    "```{bibliography} ./references.bib\n",
    ":all:\n",
    "```"
   ]
  }
 ],
 "metadata": {
  "jupytext": {
   "formats": "ipynb,md:myst",
   "text_representation": {
    "extension": ".md",
    "format_name": "myst",
    "format_version": 0.13,
    "jupytext_version": "1.14.1"
   }
  },
  "kernelspec": {
   "display_name": "Python 3 (ipykernel)",
   "language": "python",
   "name": "python3"
  },
  "language_info": {
   "codemirror_mode": {
    "name": "ipython",
    "version": 3
   },
   "file_extension": ".py",
   "mimetype": "text/x-python",
   "name": "python",
   "nbconvert_exporter": "python",
   "pygments_lexer": "ipython3",
   "version": "3.9.13"
  },
  "source_map": [
   13
  ]
 },
 "nbformat": 4,
 "nbformat_minor": 5
}